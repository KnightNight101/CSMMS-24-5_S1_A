# Review of Statistics and Matrices
### 30/09/24
### Dr Fazil Baksh

## Definitions
### A Matrix
Matrix = Any rectangular array of numbers, complex numbers or functions
For Example:

 A = \begin{bmatrix}
 a_{1,1}& a_{1,2} & ... & a_{1,m} \\
 a_{2,1}& a_{2,2} & ... & a_{2,m} \\
 ...& ... & ... & ... \\
 a_{n,1}& a_{n,2} & ... & a_{n,m} \\
\end{bmatrix}

Where A is a matrix of n rows and m column with element a_{i,j} in the *ith* row and *jth* row
A is a matrix to be of order (or dimension) n x m
Convention dictates that rows are listed first, then columns
